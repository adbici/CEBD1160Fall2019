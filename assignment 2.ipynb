{
 "cells": [
  {
   "cell_type": "code",
   "execution_count": 14,
   "metadata": {},
   "outputs": [],
   "source": [
    "def list_cleaner(mylist):\n",
    "    return list(dict.fromkeys(mylist))"
   ]
  },
  {
   "cell_type": "code",
   "execution_count": 15,
   "metadata": {},
   "outputs": [
    {
     "name": "stdout",
     "output_type": "stream",
     "text": [
      "[1, 2, 3, 5, 4]\n"
     ]
    }
   ],
   "source": [
    "print(list_cleaner([1,2,1,3,5,4,4,2,]))"
   ]
  },
  {
   "cell_type": "code",
   "execution_count": 16,
   "metadata": {},
   "outputs": [
    {
     "name": "stdout",
     "output_type": "stream",
     "text": [
      "['bob', 'sam', 'ed']\n"
     ]
    }
   ],
   "source": [
    "print(list_cleaner(['bob','sam','ed','bob','ed']))"
   ]
  },
  {
   "cell_type": "code",
   "execution_count": 24,
   "metadata": {},
   "outputs": [],
   "source": [
    "def list_finder(mylist,to_find):\n",
    "    is_found = False\n",
    "    if to_find in mylist:\n",
    "        is_found = True\n",
    "    return is_found"
   ]
  },
  {
   "cell_type": "code",
   "execution_count": 25,
   "metadata": {},
   "outputs": [
    {
     "data": {
      "text/plain": [
       "False"
      ]
     },
     "execution_count": 25,
     "metadata": {},
     "output_type": "execute_result"
    }
   ],
   "source": [
    "print(list_finder([1,3,5,6,7,8,9],2))"
   ]
  },
  {
   "cell_type": "code",
   "execution_count": 26,
   "metadata": {},
   "outputs": [
    {
     "data": {
      "text/plain": [
       "True"
      ]
     },
     "execution_count": 26,
     "metadata": {},
     "output_type": "execute_result"
    }
   ],
   "source": [
    "print(list_finder([1,3,5,6,7,8,9],3))"
   ]
  },
  {
   "cell_type": "code",
   "execution_count": 37,
   "metadata": {},
   "outputs": [],
   "source": [
    "def even_maker(mylist):\n",
    "    b = []\n",
    "    for x in mylist: \n",
    "        if x % 2 == 0:\n",
    "            b.append(x)\n",
    "    return b\n"
   ]
  },
  {
   "cell_type": "code",
   "execution_count": 38,
   "metadata": {},
   "outputs": [
    {
     "name": "stdout",
     "output_type": "stream",
     "text": [
      "[4, 16, 36, 64, 100]\n"
     ]
    }
   ],
   "source": [
    "a= [1,4,9,16,25,36,49,64,81,100]\n",
    "print(even_maker(a))"
   ]
  },
  {
   "cell_type": "code",
   "execution_count": 3,
   "metadata": {},
   "outputs": [
    {
     "name": "stdout",
     "output_type": "stream",
     "text": [
      "70\n",
      "enter 22\n",
      "upper\n",
      "enter 1\n",
      "way upper\n",
      "enter 70\n",
      "bingo\n"
     ]
    }
   ],
   "source": [
    "import random\n",
    "\n",
    "def num_guess(user_input,number):\n",
    "     answer = '';\n",
    "     if user_input == number:\n",
    "        answer = 'bingo'\n",
    "     elif abs(user_input - number) <= 10 :\n",
    "        answer = 'close'\n",
    "     elif user_input - number > 10 and user_input - number <= 50:\n",
    "        answer = 'lower'\n",
    "     elif user_input - number > 50:\n",
    "        answer = 'way lower'\n",
    "     elif user_input - number < -10 and user_input - number >= -50 :\n",
    "        answer = 'upper'\n",
    "     elif user_input - number < -50:\n",
    "        answer = 'way upper'\n",
    "     return answer\n",
    "\n",
    "random_num = random.randint(0,200)\n",
    "answer = ''\n",
    "while answer != 'bingo':\n",
    "    user_input = input('enter ')\n",
    "    answer = num_guess(int(user_input),random_num)\n",
    "    print(answer)\n",
    "\n"
   ]
  },
  {
   "cell_type": "code",
   "execution_count": null,
   "metadata": {},
   "outputs": [],
   "source": []
  },
  {
   "cell_type": "code",
   "execution_count": null,
   "metadata": {},
   "outputs": [],
   "source": []
  }
 ],
 "metadata": {
  "kernelspec": {
   "display_name": "Python 3",
   "language": "python",
   "name": "python3"
  },
  "language_info": {
   "codemirror_mode": {
    "name": "ipython",
    "version": 3
   },
   "file_extension": ".py",
   "mimetype": "text/x-python",
   "name": "python",
   "nbconvert_exporter": "python",
   "pygments_lexer": "ipython3",
   "version": "3.7.3"
  }
 },
 "nbformat": 4,
 "nbformat_minor": 2
}
